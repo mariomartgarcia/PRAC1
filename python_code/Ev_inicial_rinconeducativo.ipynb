{
 "cells": [
  {
   "cell_type": "markdown",
   "metadata": {},
   "source": [
    "<div style=\"width: 100%; clear: both;\">\n",
    "<div style=\"float: left; width: 50%;\">\n",
    "<img src=\"http://www.uoc.edu/portal/_resources/common/imatges/marca_UOC/UOC_Masterbrand.jpg\", align=\"left\">\n",
    "</div>\n",
    "<div style=\"float: right; width: 50%;\">\n",
    "<p style=\"margin: 0; padding-top: 22px; text-align:right;\">Tipología y ciclo de vida de los datos · PRAC1</p>\n",
    "<p style=\"margin: 0; text-align:right;\">Máster universitario en Ciencia de datos (Data science)</p>\n",
    "<p style=\"margin: 0; text-align:right; padding-button: 100px;\">Mario Martínez García</p>\n",
    "</div>\n",
    "</div>\n",
    "<div style=\"width:100%;\">&nbsp;</div>"
   ]
  },
  {
   "cell_type": "markdown",
   "metadata": {},
   "source": [
    "# Evaluación inicial.\n",
    "\n",
    "## Rincón educativo\n",
    "\n",
    "Realizaremos una evaluación inicial sobre la página general en la que realizaremos web scraping.\n",
    "El scraping se realizará sobre una página interna de la wikipedia: http://www.rinconeducativo.org/contenidoextra/tablasperiodicas/tabla/tabla.php#tit."
   ]
  },
  {
   "cell_type": "markdown",
   "metadata": {},
   "source": [
    "### 1. Archivo _robots.txt_"
   ]
  },
  {
   "cell_type": "code",
   "execution_count": 7,
   "metadata": {},
   "outputs": [
    {
     "data": {
      "text/plain": [
       "<html><body><p>#\n",
       "# robots.txt\n",
       "#\n",
       "# This file is to prevent the crawling and indexing of certain parts\n",
       "# of your site by web crawlers and spiders run by sites like Yahoo!\n",
       "# and Google. By telling these \"robots\" where not to go on your site,\n",
       "# you save bandwidth and server resources.\n",
       "#\n",
       "# This file will be ignored unless it is at the root of your host:\n",
       "# Used:    http://example.com/robots.txt\n",
       "# Ignored: http://example.com/site/robots.txt\n",
       "#\n",
       "# For more information about the robots.txt standard, see:\n",
       "# http://www.robotstxt.org/robotstxt.html\n",
       "\n",
       "User-agent: *\n",
       "Crawl-delay: 10\n",
       "# CSS, JS, Images\n",
       "Allow: /misc/*.css$\n",
       "Allow: /misc/*.css?\n",
       "Allow: /misc/*.js$\n",
       "Allow: /misc/*.js?\n",
       "Allow: /misc/*.gif\n",
       "Allow: /misc/*.jpg\n",
       "Allow: /misc/*.jpeg\n",
       "Allow: /misc/*.png\n",
       "Allow: /modules/*.css$\n",
       "Allow: /modules/*.css?\n",
       "Allow: /modules/*.js$\n",
       "Allow: /modules/*.js?\n",
       "Allow: /modules/*.gif\n",
       "Allow: /modules/*.jpg\n",
       "Allow: /modules/*.jpeg\n",
       "Allow: /modules/*.png\n",
       "Allow: /profiles/*.css$\n",
       "Allow: /profiles/*.css?\n",
       "Allow: /profiles/*.js$\n",
       "Allow: /profiles/*.js?\n",
       "Allow: /profiles/*.gif\n",
       "Allow: /profiles/*.jpg\n",
       "Allow: /profiles/*.jpeg\n",
       "Allow: /profiles/*.png\n",
       "Allow: /themes/*.css$\n",
       "Allow: /themes/*.css?\n",
       "Allow: /themes/*.js$\n",
       "Allow: /themes/*.js?\n",
       "Allow: /themes/*.gif\n",
       "Allow: /themes/*.jpg\n",
       "Allow: /themes/*.jpeg\n",
       "Allow: /themes/*.png\n",
       "# Directories\n",
       "Disallow: /includes/\n",
       "Disallow: /misc/\n",
       "Disallow: /modules/\n",
       "Disallow: /profiles/\n",
       "Disallow: /scripts/\n",
       "Disallow: /themes/\n",
       "# Files\n",
       "Disallow: /CHANGELOG.txt\n",
       "Disallow: /cron.php\n",
       "Disallow: /INSTALL.mysql.txt\n",
       "Disallow: /INSTALL.pgsql.txt\n",
       "Disallow: /INSTALL.sqlite.txt\n",
       "Disallow: /install.php\n",
       "Disallow: /INSTALL.txt\n",
       "Disallow: /LICENSE.txt\n",
       "Disallow: /MAINTAINERS.txt\n",
       "Disallow: /update.php\n",
       "Disallow: /UPGRADE.txt\n",
       "Disallow: /xmlrpc.php\n",
       "# Paths (clean URLs)\n",
       "Disallow: /admin/\n",
       "Disallow: /comment/reply/\n",
       "Disallow: /filter/tips/\n",
       "Disallow: /node/add/\n",
       "Disallow: /search/\n",
       "Disallow: /user/register/\n",
       "Disallow: /user/password/\n",
       "Disallow: /user/login/\n",
       "Disallow: /user/logout/\n",
       "# Paths (no clean URLs)\n",
       "Disallow: /?q=admin/\n",
       "Disallow: /?q=comment/reply/\n",
       "Disallow: /?q=filter/tips/\n",
       "Disallow: /?q=node/add/\n",
       "Disallow: /?q=search/\n",
       "Disallow: /?q=user/password/\n",
       "Disallow: /?q=user/register/\n",
       "Disallow: /?q=user/login/\n",
       "Disallow: /?q=user/logout/\n",
       "</p></body></html>"
      ]
     },
     "execution_count": 7,
     "metadata": {},
     "output_type": "execute_result"
    }
   ],
   "source": [
    "import requests\n",
    "from bs4 import BeautifulSoup\n",
    "url_page = 'http://www.rinconeducativo.org/robots.txt'\n",
    "\n",
    "#Accedemos a ella y mediante beautifoul soup iremos extrayendo lo que necesitemos\n",
    "page = requests.get(url_page).text \n",
    "soup = BeautifulSoup(page, \"lxml\")\n",
    "soup"
   ]
  },
  {
   "cell_type": "markdown",
   "metadata": {},
   "source": [
    "El scraping de la tabla periódica estará permitido."
   ]
  },
  {
   "cell_type": "markdown",
   "metadata": {},
   "source": [
    "### 2. Mapa del sitio web\n",
    "\n",
    "Haciendo \"crtl+u\" podemos visualizar el sitio web"
   ]
  },
  {
   "cell_type": "markdown",
   "metadata": {},
   "source": [
    "### 3. Tamaño\n",
    "\n",
    "Si sobre google buscamos 'http://www.rinconeducativo.org/' obtendremos un total de 19.500.000 enlaces. Nosotros no trabajaremos directamente con este enlace sino que lo haremos con el que nos redirecciona directamente sobre la tabla periódica ('http://www.rinconeducativo.org/contenidoextra/tablasperiodicas/tabla/tabla.php#tit') por lo que la búsqueda será más eficaz."
   ]
  },
  {
   "cell_type": "markdown",
   "metadata": {},
   "source": [
    "### 4. Tecnología\n",
    "\n",
    "La tecnología usada en el diseño del sitio web es la siguiente."
   ]
  },
  {
   "cell_type": "code",
   "execution_count": 4,
   "metadata": {},
   "outputs": [
    {
     "data": {
      "text/plain": [
       "{'cms': ['Drupal'],\n",
       " 'programming-languages': ['PHP'],\n",
       " 'web-frameworks': ['Twitter Bootstrap'],\n",
       " 'video-players': ['YouTube'],\n",
       " 'javascript-frameworks': ['jQuery']}"
      ]
     },
     "execution_count": 4,
     "metadata": {},
     "output_type": "execute_result"
    }
   ],
   "source": [
    "import builtwith\n",
    "builtwith.builtwith('http://www.rinconeducativo.org/')"
   ]
  },
  {
   "cell_type": "markdown",
   "metadata": {},
   "source": [
    "### 5. Propietario\n",
    "\n",
    "Importamos whois para conocer al propietario de la web."
   ]
  },
  {
   "cell_type": "code",
   "execution_count": 1,
   "metadata": {},
   "outputs": [
    {
     "name": "stdout",
     "output_type": "stream",
     "text": [
      "{\n",
      "  \"domain_name\": \"RINCONEDUCATIVO.ORG\",\n",
      "  \"registrar\": \"DonDominio (SCIP)\",\n",
      "  \"whois_server\": \"whois.scip.es\",\n",
      "  \"referral_url\": null,\n",
      "  \"updated_date\": [\n",
      "    \"2019-07-02 14:25:17\",\n",
      "    \"2019-07-02 16:25:18\"\n",
      "  ],\n",
      "  \"creation_date\": \"2009-06-30 16:14:05\",\n",
      "  \"expiration_date\": \"2020-06-30 16:14:05\",\n",
      "  \"name_servers\": [\n",
      "    \"10.SUCURIDNS.COM\",\n",
      "    \"12.SUCURIDNS.COM\",\n",
      "    \"13.SUCURIDNS.COM\",\n",
      "    \"16.SUCURIDNS.COM\"\n",
      "  ],\n",
      "  \"status\": [\n",
      "    \"ok https://icann.org/epp#ok\",\n",
      "    \"ok http://www.icann.org/epp#ok\"\n",
      "  ],\n",
      "  \"emails\": [\n",
      "    \"abuse@scip.es\",\n",
      "    \"rinconeducativo.org@whoisprivacycontact.com\"\n",
      "  ],\n",
      "  \"dnssec\": [\n",
      "    \"unsigned\",\n",
      "    \"Unsigned\"\n",
      "  ],\n",
      "  \"name\": \"Whois Privacy Service Protects this domain\",\n",
      "  \"org\": \"Soluciones Corporativas IP, c/o Whois Proxy\",\n",
      "  \"address\": \"C/ Menestrals 14\",\n",
      "  \"city\": \"Manacor\",\n",
      "  \"state\": \"Illes Balears\",\n",
      "  \"zipcode\": \"07500\",\n",
      "  \"country\": \"ES\"\n",
      "}\n"
     ]
    }
   ],
   "source": [
    "import whois\n",
    "whois.whois('http://www.rinconeducativo.org/')"
   ]
  },
  {
   "cell_type": "code",
   "execution_count": null,
   "metadata": {},
   "outputs": [],
   "source": []
  }
 ],
 "metadata": {
  "kernelspec": {
   "display_name": "Python 3",
   "language": "python",
   "name": "python3"
  },
  "language_info": {
   "codemirror_mode": {
    "name": "ipython",
    "version": 3
   },
   "file_extension": ".py",
   "mimetype": "text/x-python",
   "name": "python",
   "nbconvert_exporter": "python",
   "pygments_lexer": "ipython3",
   "version": "3.7.4"
  }
 },
 "nbformat": 4,
 "nbformat_minor": 2
}
